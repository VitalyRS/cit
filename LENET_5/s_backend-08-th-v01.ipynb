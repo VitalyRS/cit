{
 "cells": [
  {
   "cell_type": "code",
   "execution_count": 1,
   "metadata": {
    "collapsed": false
   },
   "outputs": [
    {
     "name": "stderr",
     "output_type": "stream",
     "text": [
      "Using TensorFlow backend.\n"
     ]
    }
   ],
   "source": [
    "from keras import backend as K\n",
    "import numpy as np\n",
    "import pandas as pd \n",
    "import tensorflow as tf\n",
    "import matplotlib.pyplot as plt\n",
    "import numpy as np\n",
    "import matplotlib.pyplot as plt\n",
    "from keras.models import model_from_json\n",
    "from keras.datasets import mnist\n",
    "from keras.utils import np_utils\n",
    "#%pylab inline\n",
    "import tensorflow as tf\n",
    "def resh(w):\n",
    "    if len(w.shape)>2:\n",
    "        i=0\n",
    "        w1=1\n",
    "        w2=1\n",
    "        for l in w.shape:\n",
    "            \n",
    "            if i==0:\n",
    "                w1=l\n",
    "                i=1\n",
    "            else:\n",
    "                w2=w2*l\n",
    "        \n",
    "        print w2\n",
    "        return np.reshape(w,(w1,w2))\n",
    "    else:\n",
    "        return w\n",
    "\n",
    "im=pd.read_csv('image.csv')\n",
    "image0=im.values"
   ]
  },
  {
   "cell_type": "code",
   "execution_count": 2,
   "metadata": {
    "collapsed": false
   },
   "outputs": [
    {
     "name": "stdout",
     "output_type": "stream",
     "text": [
      "Loaded model from disk\n"
     ]
    }
   ],
   "source": [
    "# load json and create model\n",
    "json_file = open('modelL5.json', 'r')\n",
    "loaded_model_json = json_file.read()\n",
    "json_file.close()\n",
    "loaded_model = model_from_json(loaded_model_json)\n",
    "# load weights into new model\n",
    "we=loaded_model.load_weights(\"modelL5.h5\")\n",
    "print(\"Loaded model from disk\")"
   ]
  },
  {
   "cell_type": "code",
   "execution_count": 3,
   "metadata": {
    "collapsed": false
   },
   "outputs": [
    {
     "name": "stdout",
     "output_type": "stream",
     "text": [
      "(32, 1, 3, 3) (32,)\n",
      "(32, 32, 3, 3) (32,)\n",
      "(4608, 128) (128,)\n",
      "(128, 10) (10,)\n"
     ]
    }
   ],
   "source": [
    "i=0\n",
    "for w in loaded_model.get_weights():\n",
    "    \n",
    "    if i==0:\n",
    "        C1=w\n",
    "    if i==1:\n",
    "        C1b=w\n",
    "\n",
    "    \n",
    "    if i==2:\n",
    "        C2=w\n",
    "    if i==3:\n",
    "        C2b=w\n",
    "\n",
    "    \n",
    "    if i==4:\n",
    "        C3=w\n",
    "    if i==5:\n",
    "        C3b=w\n",
    "\n",
    "\n",
    "    \n",
    "    if i==6:\n",
    "        C4=w\n",
    "    if i==7:\n",
    "        C4b=w\n",
    "    i=i+1\n",
    "\n",
    "print C1.shape,C1b.shape    \n",
    "print C2.shape,C2b.shape    \n",
    "print C3.shape,C3b.shape\n",
    "print C4.shape,C4b.shape"
   ]
  },
  {
   "cell_type": "code",
   "execution_count": 9,
   "metadata": {
    "collapsed": false,
    "scrolled": true
   },
   "outputs": [
    {
     "name": "stdout",
     "output_type": "stream",
     "text": [
      "image shape: (28, 28)\n",
      "image1 shape Tensor(\"Const_9:0\", shape=(1, 1, 28, 28), dtype=float32)\n",
      "Layer I: (32, 1, 3, 3) , Layer Ib :   (32,)\n",
      "Transposed kernel Layer  I: (32, 1, 3, 3)\n",
      "Result of conv without C1b : (1, 32, 26, 26)\n",
      "Result of conv with C1b : (1, 32, 26, 26)\n",
      "Result of conv with C1b + Relu: (1, 32, 26, 26)\n"
     ]
    }
   ],
   "source": [
    "im=pd.read_csv('image.csv')\n",
    "#image0=X_test[46,0,:,:]\n",
    "print 'image shape:',image0.shape\n",
    "image1 = tf.constant(image0,dtype='float32', shape=[1,1,28,28])\n",
    "\n",
    "print 'image1 shape',image1\n",
    "# 1st conv layer\n",
    "print 'Layer I:',C1.shape, ', Layer Ib :  ',C1b.shape\n",
    "#-------------------------------------#\n",
    "kernel1 = C1#tf.transpose(C1, (0,1, 2,3))\n",
    "print 'Transposed kernel Layer  I:',kernel1.shape\n",
    "Result1=K.get_value(K.conv2d(image1 , kernel1,strides=(1, 1), border_mode='valid',dim_ordering='th'))\n",
    "print 'Result of conv without C1b :',Result1.shape\n",
    "Resultb1 = np.empty((1, 32, 26, 26))\n",
    "for i in range(32):\n",
    "    Resultb1[0,i,:,:]=Result1[0,i,:,:]+C1b[i]\n",
    "#Resultb1=Result1[0,:,]+C1b\n",
    "\n",
    "Resultb1=np.array(Resultb1)\n",
    "print 'Result of conv with C1b :',Resultb1.shape\n",
    "A1_res=np.array(K.get_value(K.relu(Resultb1)),)\n",
    "print 'Result of conv with C1b + Relu:',A1_res.shape\n"
   ]
  },
  {
   "cell_type": "code",
   "execution_count": 10,
   "metadata": {
    "collapsed": false
   },
   "outputs": [
    {
     "name": "stdout",
     "output_type": "stream",
     "text": [
      "21632\n",
      "21632\n"
     ]
    }
   ],
   "source": [
    "(pd.DataFrame(resh(Resultb1))).to_csv('file_c_1.csv',index=False)\n",
    "(pd.DataFrame(resh(A1_res))).to_csv('file_c_1_relu.csv',index=False)"
   ]
  },
  {
   "cell_type": "code",
   "execution_count": 11,
   "metadata": {
    "collapsed": false
   },
   "outputs": [
    {
     "name": "stdout",
     "output_type": "stream",
     "text": [
      "kernel2 (32, 32, 3, 3)\n",
      "(1, 32, 24, 24)\n"
     ]
    }
   ],
   "source": [
    "#-------------------------------------# Layer 2\n",
    "kernel2 =C2# tf.transpose(C2, (0, 1, 2, 3))\n",
    "\n",
    "print 'kernel2', kernel2.shape\n",
    "image2 = tf.constant(A1_res[:,:,:,:],dtype='float32', shape=[1,32,26,26])\n",
    "b0=np.array(C2b)\n",
    "Result2=K.get_value(K.conv2d(image2 , kernel2, dim_ordering='th'))\n",
    "\n",
    "Resultb2 = np.empty((1, 32, 24, 24))\n",
    "for i in range(32):\n",
    "    Resultb2[:,i,:,:]=Result2[:,i,:,:]+C2b[i]\n",
    "\n",
    "\n",
    "#Resultb=Result+b0\n",
    "Resultb2=np.array(Resultb2)\n",
    "\n",
    "A2_res=np.array(K.get_value(K.relu(Resultb2)))\n",
    "print A2_res.shape"
   ]
  },
  {
   "cell_type": "code",
   "execution_count": 12,
   "metadata": {
    "collapsed": false
   },
   "outputs": [
    {
     "name": "stdout",
     "output_type": "stream",
     "text": [
      "18432\n",
      "18432\n"
     ]
    }
   ],
   "source": [
    "(pd.DataFrame(resh(Resultb2))).to_csv('file_c_2.csv',index=False)\n",
    "(pd.DataFrame(resh(A2_res))).to_csv('file_c_2_relu.csv',index=False)"
   ]
  },
  {
   "cell_type": "code",
   "execution_count": 13,
   "metadata": {
    "collapsed": false
   },
   "outputs": [
    {
     "name": "stdout",
     "output_type": "stream",
     "text": [
      "4608\n"
     ]
    }
   ],
   "source": [
    "\n",
    "\n",
    " \n",
    "#-------------------------------------# MAxPool\n",
    "\n",
    "A2R = tf.constant(A2_res,dtype='float32', shape=[1,32,24,24])\n",
    "AP=K.get_value(K.pool2d(A2R, pool_size=(2,2),strides=(2,2),dim_ordering='th'))\n",
    "\n",
    "\n",
    "(pd.DataFrame(resh(AP))).to_csv('file_pool.csv',index=False)"
   ]
  },
  {
   "cell_type": "code",
   "execution_count": 14,
   "metadata": {
    "collapsed": true
   },
   "outputs": [],
   "source": [
    "\n",
    "#--------------------------------------# Flatten\n",
    "KF=K.get_value(K.flatten(AP))\n",
    "\n",
    "(pd.DataFrame(resh(KF))).to_csv('file_flat.csv',index=False)"
   ]
  },
  {
   "cell_type": "code",
   "execution_count": 15,
   "metadata": {
    "collapsed": false
   },
   "outputs": [
    {
     "name": "stdout",
     "output_type": "stream",
     "text": [
      "(4608, 128) (4608,)\n",
      "(128,) (128,)\n",
      "(128,)\n"
     ]
    }
   ],
   "source": [
    "print  C3.shape,KF.shape\n",
    "#--------------------------------------# Dense 1\n",
    "\n",
    "DE=(C3.T).dot(KF)+C3b\n",
    "\n",
    "print ((C3.T).dot(KF)).shape , C3b.shape\n",
    "print DE.shape\n",
    "\n",
    "(pd.DataFrame(resh(DE))).to_csv('file_dense1.csv',index=False)"
   ]
  },
  {
   "cell_type": "code",
   "execution_count": 16,
   "metadata": {
    "collapsed": true
   },
   "outputs": [],
   "source": [
    "\n",
    "\n",
    "#--------------------------------------# Dense 1 Relu\n",
    "DA2_res=np.array(K.get_value(K.relu(DE)))\n",
    "(pd.DataFrame(resh(DA2_res))).to_csv('file_dense1_relu.csv',index=False)"
   ]
  },
  {
   "cell_type": "code",
   "execution_count": 17,
   "metadata": {
    "collapsed": false
   },
   "outputs": [
    {
     "name": "stdout",
     "output_type": "stream",
     "text": [
      "(10,)\n"
     ]
    }
   ],
   "source": [
    "\n",
    "#--------------------------------------# Dense 2 \n",
    "\n",
    "WDE=(C4.T).dot(DA2_res)+C4b\n",
    "\n",
    "print WDE.shape\n",
    "(pd.DataFrame(resh(WDE))).to_csv('file_dense2.csv',index=False)"
   ]
  },
  {
   "cell_type": "code",
   "execution_count": 5,
   "metadata": {
    "collapsed": false
   },
   "outputs": [
    {
     "name": "stdout",
     "output_type": "stream",
     "text": [
      "kernel2 (32, 32, 3, 3)\n",
      "(1, 32, 24, 24)\n",
      "(4608, 128) (4608,)\n",
      "(128,) (128,)\n",
      "(128,)\n",
      "(10,)\n",
      "[ 4424.68164062 -1962.20532227  -181.99525452 -2315.38476562 -2688.57861328\n",
      " -2529.76879883  -708.00384521 -1351.1541748  -1444.06677246 -1301.04553223]\n",
      "[[ 1.  0.  0.  0.  0.  0.  0.  0.  0.  0.]]\n"
     ]
    }
   ],
   "source": [
    "\n",
    "#--------------------------------------# softmax\n",
    "a = tf.constant(np.array([WDE]))\n",
    "sess=tf.Session()\n",
    "print WDE\n",
    "print sess.run(tf.nn.softmax(a))"
   ]
  },
  {
   "cell_type": "code",
   "execution_count": 18,
   "metadata": {
    "collapsed": false
   },
   "outputs": [
    {
     "data": {
      "text/plain": [
       "array([[ 1.,  0.,  0.,  0.,  0.,  0.,  0.,  0.,  0.,  0.]], dtype=float32)"
      ]
     },
     "execution_count": 18,
     "metadata": {},
     "output_type": "execute_result"
    }
   ],
   "source": [
    "sess.run(tf.nn.softmax(a))[0]"
   ]
  },
  {
   "cell_type": "code",
   "execution_count": 6,
   "metadata": {
    "collapsed": false
   },
   "outputs": [
    {
     "name": "stdout",
     "output_type": "stream",
     "text": [
      "image shape: (28, 28)\n",
      "1/1 [==============================] - 0s\n",
      "0\n",
      "1/1 [==============================] - 0s\n",
      "[ 1.  0.  0.  0.  0.  0.  0.  0.  0.  0.]\n",
      "____________________________________________________________________________________________________\n",
      "Layer (type)                     Output Shape          Param #     Connected to                     \n",
      "====================================================================================================\n",
      "convolution2d_8 (Convolution2D)  (None, 32, 26, 26)    320         convolution2d_input_1[0][0]      \n",
      "____________________________________________________________________________________________________\n",
      "activation_13 (Activation)       (None, 32, 26, 26)    0           convolution2d_8[0][0]            \n",
      "____________________________________________________________________________________________________\n",
      "convolution2d_9 (Convolution2D)  (None, 32, 24, 24)    9248        activation_13[0][0]              \n",
      "____________________________________________________________________________________________________\n",
      "activation_14 (Activation)       (None, 32, 24, 24)    0           convolution2d_9[0][0]            \n",
      "____________________________________________________________________________________________________\n",
      "maxpooling2d_5 (MaxPooling2D)    (None, 32, 12, 12)    0           activation_14[0][0]              \n",
      "____________________________________________________________________________________________________\n",
      "dropout_6 (Dropout)              (None, 32, 12, 12)    0           maxpooling2d_5[0][0]             \n",
      "____________________________________________________________________________________________________\n",
      "flatten_4 (Flatten)              (None, 4608)          0           dropout_6[0][0]                  \n",
      "____________________________________________________________________________________________________\n",
      "dense_7 (Dense)                  (None, 128)           589952      flatten_4[0][0]                  \n",
      "____________________________________________________________________________________________________\n",
      "activation_15 (Activation)       (None, 128)           0           dense_7[0][0]                    \n",
      "____________________________________________________________________________________________________\n",
      "dropout_7 (Dropout)              (None, 128)           0           activation_15[0][0]              \n",
      "____________________________________________________________________________________________________\n",
      "dense_8 (Dense)                  (None, 10)            1290        dropout_7[0][0]                  \n",
      "____________________________________________________________________________________________________\n",
      "activation_16 (Activation)       (None, 10)            0           dense_8[0][0]                    \n",
      "====================================================================================================\n",
      "Total params: 600810\n",
      "____________________________________________________________________________________________________\n"
     ]
    }
   ],
   "source": [
    "#image0=X_train[46,0,:,:]\n",
    "print 'image shape:',image0.shape\n",
    "image1 = tf.constant(image0,dtype='float32', shape=[1,1,28,28])\n",
    "\n",
    "ima=K.get_value(image1)\n",
    "ima.shape\n",
    "#image1.shape\n",
    "print loaded_model.predict_classes(ima)[0]\n",
    "print loaded_model.predict_proba(ima)[0]\n",
    "loaded_model.summary()\n"
   ]
  }
 ],
 "metadata": {
  "kernelspec": {
   "display_name": "Python 2",
   "language": "python",
   "name": "python2"
  },
  "language_info": {
   "codemirror_mode": {
    "name": "ipython",
    "version": 2
   },
   "file_extension": ".py",
   "mimetype": "text/x-python",
   "name": "python",
   "nbconvert_exporter": "python",
   "pygments_lexer": "ipython2",
   "version": "2.7.12"
  }
 },
 "nbformat": 4,
 "nbformat_minor": 0
}
