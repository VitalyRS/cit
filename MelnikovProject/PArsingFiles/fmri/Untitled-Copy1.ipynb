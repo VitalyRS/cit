{
 "cells": [
  {
   "cell_type": "code",
   "execution_count": 12,
   "metadata": {
    "collapsed": true
   },
   "outputs": [],
   "source": [
    "import pandas as pd\n",
    "import os\n",
    "import re\n",
    "import math\n",
    "import numpy as np\n",
    "def get_fmri_id_name(stra):\n",
    "    pattern_fmri_id=u\"\\d+\"\n",
    "    pattern_fmri_name=u\"_\\D+\"\n",
    "\n",
    "    if isinstance(stra, basestring):\n",
    "        #print re.findall(pattern_fmri_id,stra)[0]\n",
    "        #print re.findall(pattern_fmri_name,stra)[0]\n",
    "        return re.findall(pattern_fmri_id,stra)[0],re.findall(pattern_fmri_name,stra)[0][1:]\n",
    "    else:\n",
    "        return  \"none\",\"none\"\n"
   ]
  },
  {
   "cell_type": "code",
   "execution_count": 5,
   "metadata": {
    "collapsed": true
   },
   "outputs": [],
   "source": [
    "file_eeg01=\"depr_all_14_05_2017_01.csv\"\n",
    "file_eeg02=\"depr_all_14_05_2017_02.csv\"\n",
    "file_fmri_all=\"fmri_all_14_05_2017.csv\"\n",
    "file_fmri_folder=\"fmri_folder_14_05_2017.csv\"\n",
    "file_person=\"fmri_persons.csv\""
   ]
  },
  {
   "cell_type": "code",
   "execution_count": 15,
   "metadata": {
    "collapsed": false
   },
   "outputs": [
    {
     "data": {
      "text/html": [
       "<div>\n",
       "<table border=\"1\" class=\"dataframe\">\n",
       "  <thead>\n",
       "    <tr style=\"text-align: right;\">\n",
       "      <th></th>\n",
       "      <th>id</th>\n",
       "      <th>name</th>\n",
       "      <th>onweb</th>\n",
       "    </tr>\n",
       "  </thead>\n",
       "  <tbody>\n",
       "    <tr>\n",
       "      <th>0</th>\n",
       "      <td>0532</td>\n",
       "      <td>SARY'GINA_S_A</td>\n",
       "      <td>1</td>\n",
       "    </tr>\n",
       "    <tr>\n",
       "      <th>1</th>\n",
       "      <td>0537</td>\n",
       "      <td>SHAPOSHNIKOV_A_V</td>\n",
       "      <td>1</td>\n",
       "    </tr>\n",
       "    <tr>\n",
       "      <th>2</th>\n",
       "      <td>0541</td>\n",
       "      <td>CHUGAINOV_A_N</td>\n",
       "      <td>1</td>\n",
       "    </tr>\n",
       "    <tr>\n",
       "      <th>3</th>\n",
       "      <td>0543</td>\n",
       "      <td>KOSTYUSHINA_E_F</td>\n",
       "      <td>1</td>\n",
       "    </tr>\n",
       "    <tr>\n",
       "      <th>4</th>\n",
       "      <td>0544</td>\n",
       "      <td>VASILIEVA_A_V</td>\n",
       "      <td>1</td>\n",
       "    </tr>\n",
       "  </tbody>\n",
       "</table>\n",
       "</div>"
      ],
      "text/plain": [
       "     id              name onweb\n",
       "0  0532     SARY'GINA_S_A     1\n",
       "1  0537  SHAPOSHNIKOV_A_V     1\n",
       "2  0541     CHUGAINOV_A_N     1\n",
       "3  0543   KOSTYUSHINA_E_F     1\n",
       "4  0544     VASILIEVA_A_V     1"
      ]
     },
     "execution_count": 15,
     "metadata": {},
     "output_type": "execute_result"
    }
   ],
   "source": [
    "bd_person=pd.read_csv(file_person,sep=\"\\t\")\n",
    "iid,nname=[],[]\n",
    "for stra in bd_person.iloc[:,0]:\n",
    "    ida,name= get_fmri_id_name(stra)\n",
    "    iid.append(ida)\n",
    "    nname.append(name)\n",
    "for stra in bd_person.iloc[:,1]:\n",
    "    ida,name= get_fmri_id_name(stra)\n",
    "    iid.append(ida)\n",
    "    nname.append(name)\n",
    "\n",
    "datas={\"id\":iid,\"name\":nname}\n",
    "bd_person_re=pd.DataFrame(datas)\n",
    "\n",
    "\n",
    "bd_fmri_all=pd.read_csv(file_fmri_folder,sep=\"\\t\",header=None)\n",
    "bd_fmri_all\n",
    "iid,nname=[],[]\n",
    "for stra in bd_fmri_all.values:\n",
    "    stra=stra[0]\n",
    "    ida,name= get_fmri_id_name(stra)\n",
    "    iid.append(ida)\n",
    "    nname.append(name)\n",
    "\n",
    "datas={\"id\":iid,\"name\":nname}\n",
    "bd_fmri_all=pd.DataFrame(datas)\n",
    "ada=[]\n",
    "for ida in bd_person_re.id:\n",
    "    if ida==\"none\":\n",
    "        ad=\"0\"\n",
    "    else:\n",
    "        if np.sum(bd_fmri_all.id.isin([ida]))>0:\n",
    "            ad=\"1\"\n",
    "    ada.append(ad)\n",
    "bd_person_re[\"onweb\"]=ada\n",
    "bd_person_re.head()\n"
   ]
  },
  {
   "cell_type": "code",
   "execution_count": 137,
   "metadata": {
    "collapsed": false
   },
   "outputs": [],
   "source": [
    "bd_person_re.to_csv(\"fmriweb.csv\",index=False,sep=\"\\t\")"
   ]
  },
  {
   "cell_type": "code",
   "execution_count": 133,
   "metadata": {
    "collapsed": false
   },
   "outputs": [],
   "source": [
    "file_eeg01=\"depr_all_14_05_2017_01.csv\"\n",
    "file_eeg02=\"depr_all_14_05_2017_02.csv\"\n",
    "bd_eeg_01=pd.read_csv(file_eeg01)\n",
    "bd_eeg_02=pd.read_csv(file_eeg02)\n",
    "\n"
   ]
  },
  {
   "cell_type": "code",
   "execution_count": 88,
   "metadata": {
    "collapsed": false
   },
   "outputs": [
    {
     "name": "stdout",
     "output_type": "stream",
     "text": [
      "48\n"
     ]
    },
    {
     "data": {
      "text/plain": [
       "['Alesenko',\n",
       " 'Kalachina ',\n",
       " 'Pogodina',\n",
       " 'Bliznuk',\n",
       " 'Rimskaya',\n",
       " 'Chervyakov ',\n",
       " 'Kostushina ',\n",
       " 'chygainov ',\n",
       " 'Pokroskiy',\n",
       " 'Kicheeva ',\n",
       " 'Sviridova ',\n",
       " 'vasilieva ',\n",
       " 'Efremov ',\n",
       " 'Fatyanova',\n",
       " 'yakovlev ',\n",
       " 'zelenskaya ',\n",
       " 'Dragun',\n",
       " 'shaposhnikov ',\n",
       " 'Ionnikov ',\n",
       " 'Pobeda ',\n",
       " 'Rimskiy',\n",
       " 'Chugunova ',\n",
       " 'Barhatskya ',\n",
       " 'Zaripova ',\n",
       " 'pneva ',\n",
       " 'buchan  ',\n",
       " 'Melihova ',\n",
       " 'Belenkova',\n",
       " 'Chernichenko',\n",
       " 'Homik ',\n",
       " 'bogomolov ',\n",
       " 'Klimova ',\n",
       " 'Reshetnikova ',\n",
       " 'sheludakova ',\n",
       " 'Rygih',\n",
       " 'Bezm ',\n",
       " 'Siniaeva',\n",
       " 'Mihaleva',\n",
       " 'baeva ',\n",
       " 'Sarygina',\n",
       " 'Speshneva ',\n",
       " 'German',\n",
       " 'Matveeva',\n",
       " 'Kraynak',\n",
       " 'Vahmistrova ',\n",
       " 'Krylov',\n",
       " 'Medvedeva ',\n",
       " 'Kairbekov']"
      ]
     },
     "execution_count": 88,
     "metadata": {},
     "output_type": "execute_result"
    }
   ],
   "source": [
    "pattern_name=u\"\\D{4,}\"                \n",
    "nnama=[]\n",
    "for stra in bd_eeg_01.values:\n",
    "    stra=stra[0]\n",
    "    if \"eeg\" in stra:\n",
    "        \n",
    "        fin=re.findall(pattern_name,stra)[0]            \n",
    "        fin=fin.replace(\"_\",\"\")\n",
    "        nnama.append(fin)\n",
    "        \n",
    "names= list(set(nnama))\n",
    "print len(names)\n",
    "        \n",
    "\n",
    "\n",
    "names\n"
   ]
  },
  {
   "cell_type": "code",
   "execution_count": 138,
   "metadata": {
    "collapsed": false
   },
   "outputs": [],
   "source": [
    "\n",
    "def findt1t2t3(NAM,PAR,bd_eeg):    \n",
    "    k=0\n",
    "    for bada in bd_eeg.values:\n",
    "        bada=bada[0]\n",
    "        \n",
    "        \n",
    "        if \"eeg\" in bada:\n",
    "            \n",
    "            if NAM in bada:\n",
    "                if PAR in bada:\n",
    "                    k= 1\n",
    "    return k\n",
    "aa,bb,cc,dd=[],[],[],[]\n",
    "for name in names:                \n",
    "    a=findt1t2t3(name,\"fon\",bd_eeg_01)\n",
    "    b=findt1t2t3(name,\"t1\",bd_eeg_01)\n",
    "    c=findt1t2t3(name,\"t2\",bd_eeg_01)\n",
    "    d=findt1t2t3(name,\"t3\",bd_eeg_01)\n",
    "    aa.append(a)\n",
    "    bb.append(b)\n",
    "    cc.append(c)\n",
    "    dd.append(d)\n",
    "bd_eeg_1=pd.DataFrame(zip(names,aa,bb,cc,dd)    )\n",
    "bd_eeg_1    \n",
    "\n",
    "for name in names:                \n",
    "    a=findt1t2t3(name,\"fon\",bd_eeg_02)\n",
    "    b=findt1t2t3(name,\"t1\",bd_eeg_02)\n",
    "    c=findt1t2t3(name,\"t2\",bd_eeg_02)\n",
    "    d=findt1t2t3(name,\"t3\",bd_eeg_02)\n",
    "    aa.append(a)\n",
    "    bb.append(b)\n",
    "    cc.append(c)\n",
    "    dd.append(d)\n",
    "bd_eeg_2=pd.DataFrame(zip(names,aa,bb,cc,dd)    )\n",
    "bd_eeg_2\n",
    "            \n",
    "bd_eeg_1.to_csv(\"eegf1.csv\",index=False,sep=\"\\t\")\n",
    "bd_eeg_2.to_csv(\"eegf2.csv\",index=False,sep=\"\\t\")"
   ]
  },
  {
   "cell_type": "code",
   "execution_count": null,
   "metadata": {
    "collapsed": true
   },
   "outputs": [],
   "source": [
    "#if \"fon\" in stra:\n",
    "##            print stra,\"fon\"\n",
    " #       if \"t1\" in stra:\n",
    " #           print stra,\"t1\"\n",
    " #       if \"t2\" in stra:\n",
    " #           print stra,\"t2\"\n",
    " #       if \"t3\" in stra:\n",
    " #           print stra,\"t3\"\n"
   ]
  }
 ],
 "metadata": {
  "kernelspec": {
   "display_name": "Python 2",
   "language": "python",
   "name": "python2"
  },
  "language_info": {
   "codemirror_mode": {
    "name": "ipython",
    "version": 2
   },
   "file_extension": ".py",
   "mimetype": "text/x-python",
   "name": "python",
   "nbconvert_exporter": "python",
   "pygments_lexer": "ipython2",
   "version": "2.7.12"
  }
 },
 "nbformat": 4,
 "nbformat_minor": 0
}
