{
 "cells": [
  {
   "cell_type": "code",
   "execution_count": 1,
   "metadata": {
    "collapsed": true
   },
   "outputs": [],
   "source": [
    "import pandas as pd\n",
    "import os\n",
    "import re\n",
    "import math\n",
    "import numpy as np\n",
    "def get_fmri_id_name(stra):\n",
    "    pattern_fmri_id=u\"\\d+\"\n",
    "    pattern_fmri_name=u\"_\\D+\"\n",
    "\n",
    "    if isinstance(stra, basestring):\n",
    "        #print re.findall(pattern_fmri_id,stra)[0]\n",
    "        #print re.findall(pattern_fmri_name,stra)[0]\n",
    "        return re.findall(pattern_fmri_id,stra)[0],re.findall(pattern_fmri_name,stra)[0][1:]\n",
    "    else:\n",
    "        return  \"none\",\"none\"\n",
    "    "
   ]
  },
  {
   "cell_type": "code",
   "execution_count": 2,
   "metadata": {
    "collapsed": true
   },
   "outputs": [],
   "source": [
    "file_fmri_all=\"fmri_all_14_05_2017.csv\"\n",
    "file_fmri_folder=\"fmri_folder_14_05_2017.csv\"\n",
    "file_person=\"fmri_persons.csv\""
   ]
  },
  {
   "cell_type": "code",
   "execution_count": 3,
   "metadata": {
    "collapsed": false
   },
   "outputs": [
    {
     "data": {
      "text/html": [
       "<div>\n",
       "<table border=\"1\" class=\"dataframe\">\n",
       "  <thead>\n",
       "    <tr style=\"text-align: right;\">\n",
       "      <th></th>\n",
       "      <th>id</th>\n",
       "      <th>name</th>\n",
       "    </tr>\n",
       "  </thead>\n",
       "  <tbody>\n",
       "    <tr>\n",
       "      <th>0</th>\n",
       "      <td>0532</td>\n",
       "      <td>SARY'GINA_S_A</td>\n",
       "    </tr>\n",
       "    <tr>\n",
       "      <th>1</th>\n",
       "      <td>0537</td>\n",
       "      <td>SHAPOSHNIKOV_A_V</td>\n",
       "    </tr>\n",
       "    <tr>\n",
       "      <th>2</th>\n",
       "      <td>0541</td>\n",
       "      <td>CHUGAINOV_A_N</td>\n",
       "    </tr>\n",
       "    <tr>\n",
       "      <th>3</th>\n",
       "      <td>0543</td>\n",
       "      <td>KOSTYUSHINA_E_F</td>\n",
       "    </tr>\n",
       "    <tr>\n",
       "      <th>4</th>\n",
       "      <td>0544</td>\n",
       "      <td>VASILIEVA_A_V</td>\n",
       "    </tr>\n",
       "    <tr>\n",
       "      <th>5</th>\n",
       "      <td>0547</td>\n",
       "      <td>MIKHALEVA_A_S</td>\n",
       "    </tr>\n",
       "    <tr>\n",
       "      <th>6</th>\n",
       "      <td>0548</td>\n",
       "      <td>GERMAN_D_O</td>\n",
       "    </tr>\n",
       "    <tr>\n",
       "      <th>7</th>\n",
       "      <td>0549</td>\n",
       "      <td>POKROVSKIY_M_A</td>\n",
       "    </tr>\n",
       "    <tr>\n",
       "      <th>8</th>\n",
       "      <td>0550</td>\n",
       "      <td>KRAYNYAK_V_V</td>\n",
       "    </tr>\n",
       "    <tr>\n",
       "      <th>9</th>\n",
       "      <td>0551</td>\n",
       "      <td>KAIRBEKOV_A_M</td>\n",
       "    </tr>\n",
       "  </tbody>\n",
       "</table>\n",
       "</div>"
      ],
      "text/plain": [
       "     id              name\n",
       "0  0532     SARY'GINA_S_A\n",
       "1  0537  SHAPOSHNIKOV_A_V\n",
       "2  0541     CHUGAINOV_A_N\n",
       "3  0543   KOSTYUSHINA_E_F\n",
       "4  0544     VASILIEVA_A_V\n",
       "5  0547     MIKHALEVA_A_S\n",
       "6  0548        GERMAN_D_O\n",
       "7  0549    POKROVSKIY_M_A\n",
       "8  0550      KRAYNYAK_V_V\n",
       "9  0551     KAIRBEKOV_A_M"
      ]
     },
     "execution_count": 3,
     "metadata": {},
     "output_type": "execute_result"
    }
   ],
   "source": [
    "bd_person=pd.read_csv(file_person,sep=\"\\t\")\n",
    "bd_person.head()\n",
    "iid,nname=[],[]\n",
    "\n",
    "for stra in bd_person.iloc[:,0]:\n",
    "    ida,name= get_fmri_id_name(stra)\n",
    "    iid.append(ida)\n",
    "    nname.append(name)\n",
    "for stra in bd_person.iloc[:,1]:\n",
    "    ida,name= get_fmri_id_name(stra)\n",
    "    iid.append(ida)\n",
    "    nname.append(name)\n",
    "\n",
    "datas={\"id\":iid,\"name\":nname}\n",
    "bd_person_re=pd.DataFrame(datas)\n",
    "bd_person_re.head(10)"
   ]
  },
  {
   "cell_type": "code",
   "execution_count": 4,
   "metadata": {
    "collapsed": false
   },
   "outputs": [
    {
     "data": {
      "text/html": [
       "<div>\n",
       "<table border=\"1\" class=\"dataframe\">\n",
       "  <thead>\n",
       "    <tr style=\"text-align: right;\">\n",
       "      <th></th>\n",
       "      <th>.:</th>\n",
       "    </tr>\n",
       "  </thead>\n",
       "  <tbody>\n",
       "    <tr>\n",
       "      <th>0</th>\n",
       "      <td>0523FMRI_SHASHOVA_A__M</td>\n",
       "    </tr>\n",
       "    <tr>\n",
       "      <th>1</th>\n",
       "      <td>0524FMRI-EEG_MEL'NIKOV_M__E</td>\n",
       "    </tr>\n",
       "    <tr>\n",
       "      <th>2</th>\n",
       "      <td>0526FMRI-EEG_BEZMATERNY'X_D__D</td>\n",
       "    </tr>\n",
       "    <tr>\n",
       "      <th>3</th>\n",
       "      <td>0527FMRI-EEG_EFREMOV_B_O</td>\n",
       "    </tr>\n",
       "    <tr>\n",
       "      <th>4</th>\n",
       "      <td>0530FMRI-EEG_ZARIPOVA_D_I</td>\n",
       "    </tr>\n",
       "    <tr>\n",
       "      <th>5</th>\n",
       "      <td>0532FMRI-EEG_SARY'GINA_S_A</td>\n",
       "    </tr>\n",
       "    <tr>\n",
       "      <th>6</th>\n",
       "      <td>0537FMRI-EEG_SHAPOSHNIKOV_A_V</td>\n",
       "    </tr>\n",
       "    <tr>\n",
       "      <th>7</th>\n",
       "      <td>0540FMRI-EEG_KALACHINA_E_A</td>\n",
       "    </tr>\n",
       "    <tr>\n",
       "      <th>8</th>\n",
       "      <td>0541FMRI-EEG_CHUGAINOV_A_N</td>\n",
       "    </tr>\n",
       "    <tr>\n",
       "      <th>9</th>\n",
       "      <td>0543FMRI-EEG_KOSTYUSHINA_E_F</td>\n",
       "    </tr>\n",
       "  </tbody>\n",
       "</table>\n",
       "</div>"
      ],
      "text/plain": [
       "                               .:\n",
       "0          0523FMRI_SHASHOVA_A__M\n",
       "1     0524FMRI-EEG_MEL'NIKOV_M__E\n",
       "2  0526FMRI-EEG_BEZMATERNY'X_D__D\n",
       "3        0527FMRI-EEG_EFREMOV_B_O\n",
       "4       0530FMRI-EEG_ZARIPOVA_D_I\n",
       "5      0532FMRI-EEG_SARY'GINA_S_A\n",
       "6   0537FMRI-EEG_SHAPOSHNIKOV_A_V\n",
       "7      0540FMRI-EEG_KALACHINA_E_A\n",
       "8      0541FMRI-EEG_CHUGAINOV_A_N\n",
       "9    0543FMRI-EEG_KOSTYUSHINA_E_F"
      ]
     },
     "execution_count": 4,
     "metadata": {},
     "output_type": "execute_result"
    }
   ],
   "source": [
    "bd_fmri_all=pd.read_csv(file_fmri_all,sep=\"\\t\")\n",
    "\n",
    "bd_fmri_all.head(10)\n"
   ]
  },
  {
   "cell_type": "code",
   "execution_count": 7,
   "metadata": {
    "collapsed": false
   },
   "outputs": [
    {
     "data": {
      "text/plain": [
       "[('501', 224), ('601', 258), ('701', 254)]"
      ]
     },
     "execution_count": 7,
     "metadata": {},
     "output_type": "execute_result"
    }
   ],
   "source": [
    "def get_long(IDA,TYPE,bd_fmri_all):\n",
    "    rres=[]\n",
    "    for sta in bd_fmri_all.iloc[:,0]:\n",
    "        patternLONG=u\"\\A\"+TYPE+IDA+\"\\S*_LONG\\S*\\.nii\"\n",
    "        res=re.findall(patternLONG,sta)\n",
    "        if len(res)!=0:\n",
    "            res=res[0]\n",
    "            rres.append(res)\n",
    "    aaa=[]\n",
    "    for sta in rres:\n",
    "        patternFOL=u\"_\\d{3,4}_\"         # *_FE_EPI\n",
    "        res=re.findall(patternFOL,sta)\n",
    "        if len(res)!=0:\n",
    "            aa=res[0][1:-1]\n",
    "            aaa.append(aa)\n",
    "    unique, counts = np.unique(aaa, return_counts=True)\n",
    "    return unique,counts\n",
    "TYPE=\"swa\"        \n",
    "IDA=\"0639\"\n",
    "a,b=get_long(IDA,TYPE,bd_fmri_all)\n",
    "zip(a,b)"
   ]
  },
  {
   "cell_type": "code",
   "execution_count": 26,
   "metadata": {
    "collapsed": false
   },
   "outputs": [
    {
     "name": "stdout",
     "output_type": "stream",
     "text": [
      "(array(['601', '701', '801'], \n",
      "      dtype='|S3'), array([195, 224, 273]))\n",
      "(array(['301', '501'], \n",
      "      dtype='|S3'), array([50, 50]))\n",
      "(array(['201'], \n",
      "      dtype='|S3'), array([100]))\n"
     ]
    }
   ],
   "source": [
    "\n",
    "def get_50(IDA,TYPE,bd_fmri_all):\n",
    "    rres=[]\n",
    "    for sta in bd_fmri_all.iloc[:,0]:\n",
    "#    print sta\n",
    "        pattern50=u\"\\A\"+TYPE+IDA+\"\\S*25x5x50_SENSE_EPI_25x5x50\\S*\\.nii\"\n",
    "        res=re.findall(pattern50,sta)\n",
    "    \n",
    "        if len(res)!=0:\n",
    "            res=res[0]\n",
    "            rres.append(res)\n",
    "        #print res\n",
    "    aaa=[]\n",
    "    for sta in rres:\n",
    "        patternFOL=u\"_\\d{3,4}_\"         # *_FE_EPI\n",
    "        res=re.findall(patternFOL,sta)\n",
    "        if len(res)!=0:\n",
    "            aa=res[0][1:-1]\n",
    "            aaa.append(aa)\n",
    "\n",
    "    unique, counts = np.unique(aaa, return_counts=True)\n",
    "    return unique,counts\n",
    "\n",
    "\n",
    "def get_100(IDA,TYPE,bd_fmri_all):\n",
    "    rres=[]\n",
    "    for sta in bd_fmri_all.iloc[:,0]:\n",
    "\n",
    "        pattern100=u\"\\A\"+TYPE+IDA+\"\\S*25x5x100_SENSE_EPI_25x5x100\\S*\\.nii\"\n",
    "        res=re.findall(pattern100,sta)\n",
    "        if len(res)!=0:\n",
    "            res=res[0]\n",
    "            rres.append(res)\n",
    "    aaa=[]\n",
    "    for sta in rres:\n",
    "        patternFOL=u\"_\\d{3,4}_\"         # *_FE_EPI\n",
    "        res=re.findall(patternFOL,sta)\n",
    "        if len(res)!=0:\n",
    "            aa=res[0][1:-1]\n",
    "            aaa.append(aa)\n",
    "    unique, counts = np.unique(aaa, return_counts=True)\n",
    "    return unique,counts\n",
    "TYPE=\"wa\"\n",
    "IDA=\"0636\"\n",
    "print get_long(IDA,TYPE,bd_fmri_all)\n",
    "print get_50(IDA,TYPE,bd_fmri_all)\n",
    "print  get_100(IDA,TYPE,bd_fmri_all)\n",
    "\n"
   ]
  },
  {
   "cell_type": "code",
   "execution_count": null,
   "metadata": {
    "collapsed": true
   },
   "outputs": [],
   "source": []
  }
 ],
 "metadata": {
  "kernelspec": {
   "display_name": "Python 2",
   "language": "python",
   "name": "python2"
  },
  "language_info": {
   "codemirror_mode": {
    "name": "ipython",
    "version": 2
   },
   "file_extension": ".py",
   "mimetype": "text/x-python",
   "name": "python",
   "nbconvert_exporter": "python",
   "pygments_lexer": "ipython2",
   "version": "2.7.12"
  }
 },
 "nbformat": 4,
 "nbformat_minor": 0
}
